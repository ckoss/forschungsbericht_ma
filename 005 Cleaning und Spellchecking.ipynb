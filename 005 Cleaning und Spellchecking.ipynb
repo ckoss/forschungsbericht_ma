{
 "cells": [
  {
   "cell_type": "markdown",
   "metadata": {},
   "source": [
    "# Cleaning und Spellchecking"
   ]
  },
  {
   "cell_type": "markdown",
   "metadata": {},
   "source": [
    "Autor: Christian Koss - ckoss@uni-bremen.de"
   ]
  },
  {
   "cell_type": "code",
   "execution_count": 1,
   "metadata": {},
   "outputs": [],
   "source": [
    "import sqlite3\n",
    "import re\n",
    "import pandas as pd\n",
    "import Levenshtein\n",
    "amazon_sql = 'data/amazon/amazon.db'\n",
    "text_processing_sql= 'data/text_processing/text_processing.db'"
   ]
  },
  {
   "cell_type": "markdown",
   "metadata": {},
   "source": [
    "# 1. Erstelle text_processing.db"
   ]
  },
  {
   "cell_type": "code",
   "execution_count": 3,
   "metadata": {},
   "outputs": [],
   "source": [
    "conn = sqlite3.connect(amazon_sql)\n",
    "cur = conn.cursor() \n",
    "\n",
    "cur.execute('SELECT ID, text FROM dvd') \n",
    "dataframe=pd.DataFrame([(ID,text) for ID, text in cur], columns=list(map(lambda x: x[0], cur.description)))\n",
    "conn.close()\n",
    "\n",
    "####################\n",
    "\n",
    "db='raw' \n",
    "conn = sqlite3.connect(text_processing_sql)\n",
    "cur = conn.cursor()                                 \n",
    "\n",
    "wildcards = ','.join(['?'] * len(dataframe.columns))              \n",
    "\n",
    "cur.execute(\"drop table if exists %s\" % db)\n",
    "\n",
    "col_str = '\"' + '\",\"'.join(dataframe.columns) + '\"'\n",
    "cur.execute(\"create table %s (%s)\" % (db, col_str))\n",
    "\n",
    "cur.executemany(\"insert into %s values(%s)\" % (db, wildcards), [tuple(x) for x in dataframe.values])\n",
    "\n",
    "conn.commit()\n",
    "conn.close()\n"
   ]
  },
  {
   "cell_type": "markdown",
   "metadata": {},
   "source": [
    "# 2. Cleaning"
   ]
  },
  {
   "cell_type": "code",
   "execution_count": 2,
   "metadata": {},
   "outputs": [
    {
     "name": "stdout",
     "output_type": "stream",
     "text": [
      "Tokens:  639097\n",
      "Gelöschte Links:  175\n",
      "Gelöschter Code:  0\n",
      "Leere Reviews:  10\n"
     ]
    }
   ],
   "source": [
    "conn = sqlite3.connect(amazon_sql)\n",
    "cur = conn.cursor() \n",
    "\n",
    "cur.execute('SELECT ID, text FROM dvd') \n",
    "tokenset={}\n",
    "origin={}\n",
    "links=[]\n",
    "code=[]\n",
    "empty=0\n",
    "\n",
    "for ID, text in cur:\n",
    "    if text is not None:\n",
    "        try:\n",
    "            code+=re.findall('<.*?>',text)\n",
    "        except:\n",
    "            pass\n",
    "        try:\n",
    "            links+=re.findall('http[\\s]{0}[^\\s]+|http:\\/\\/ [^\\s]+|www[.][^\\s]+',text)\n",
    "        except:\n",
    "            pass\n",
    "        \n",
    "        text=re.sub('<.*?>','',text)\n",
    "        text=re.sub('http[^\\s]+|http:\\/\\/ [^\\s]+|www[.][^\\s]+','',text)\n",
    "        tokens=[word.strip('-') for word in re.findall(\"\"\"[^\\s]+\"\"\", text)]\n",
    "        \n",
    "        if len(tokens)>0:       \n",
    "            for word in tokens:\n",
    "                try:\n",
    "                    tokenset[word]+=1\n",
    "                except:\n",
    "                    tokenset[word]=1 \n",
    "                    origin[word]=str(ID)\n",
    "        else:\n",
    "            empty+=1\n",
    "    else:\n",
    "        empty+=1\n",
    "                    \n",
    "conn.close()\n",
    "tokenset.pop('', None)\n",
    "origin.pop('', None)\n",
    "print('Tokens: ', len(tokenset))\n",
    "print('Gelöschte Links: ', len(links))\n",
    "print('Gelöschter Code: ', len(code))\n",
    "print('Leere Reviews: ', empty)"
   ]
  },
  {
   "cell_type": "markdown",
   "metadata": {},
   "source": [
    "# Analysiere unbekannte Zeichen"
   ]
  },
  {
   "cell_type": "code",
   "execution_count": 3,
   "metadata": {},
   "outputs": [
    {
     "name": "stdout",
     "output_type": "stream",
     "text": [
      "htmlcode:  {'&amp;', '&lt;', '&gt;'}\n",
      "verschiedene Zeichen:  178\n",
      "unbekannte Zeichen:  92\n",
      "Î \t Îch\n",
      "ú \t Andúril, Manjúshri). Zuschaúer dejavú Kahlúa Haúse drúmrum Wanús\n",
      "ë \t Athanaël Brontës, Zoë Noël Brontë Brontë. Saint-Saëns (Chloë\n",
      " \t Hoffentlich Das Star Fight Stromberg\". Wem Muxmäuschenstill\" Handarbeit\".\n",
      "· \t ·\n",
      "# \t #7 #010 #5 #4 NOW# #3 #011 #1\"\n",
      "° \t 451° 360° 276,6° ****° WIRKUNG!°! C°. °C) ***°°\n",
      "Å \t (\"LÅT Åkerlund\n",
      "û \t Kaijû-Film Gewöhnungsbedûrftig thrakatulûk, durbatulûk, Mûmakil Nazgûl) Hautgoût. Nazgûl,\n",
      "% \t 78%, 100%-tiger 0,00% 69% Film100% 80-90% 0,058%. 70%\n",
      "’ \t Smith’, gesteh’s, Dante’s you’re gab’s hab’s (\"Dante’s „I’m\n",
      "ò \t Senòr Kròl Castelcutò Villazòn Fantaghirò, Misiòn Cuaròn\n",
      "Û \t UCHÛ\n",
      "Š \t lŠsst. Šerbedžija,\n",
      "í \t íst.Am Regísseur Gríma Kínder Siríus zwíschendurch Oríginal nícht\n",
      "β \t ausschlieβlich daβ Auβerdem auschlieβlich\n",
      "È \t MÈRE OouuumÈÈÈÈgaaaahh\"\n",
      "Ú \t Únd\n",
      "ï \t zoïle\" (Maïwenn zoïle DïArcy naïven Paï naïve Zaïna\n",
      "– \t –\n",
      "“ \t „Werk“ „Hotel“ „Lolita“ Live“ Kandidat“, sah“ […]“ Dark“\n",
      "^ \t lieblingsfilm^^) gefallen^^ Nacht^^) ^_^) (Erotik^^) wurde^^). was^^ ^~^\n",
      "Ï \t Ïch\n",
      "¼ \t Ã¼berzeugen Ã¼bertragen. AusrÃ¼stung fÃ¼r wÃ¼nschte. vollfÃ¼hren natÃ¼rlich Ã¼berragenden\n",
      "* \t *Griff *Ein kills*. gesch*****!!! *iiih*). Others* gedacht!*lol* *sehen*\n",
      "_ \t bretagneportal_com Johnson_jahren ^_^) matt_ruff VIDEO_TS GUNDAM_SEED_00_DVD_1. DVD_Recorder _absolutes_\n",
      "Ž \t ZappaŽs neeŽs. Einzel-DVDŽs. ŽDie IndyŽs BlackmoreŽs alleinerzieheŽnd, ZombieŽs\n",
      "œ \t cœur œ Ãœberraschung,\n",
      "š \t Lukáš Kušej, všllig Menšík blšden Amazošn!\n",
      " \t Ãber\n",
      "& \t &gt;.&lt; Angels&lt; (&amp;Frau Bra&amp;panties-Match &gt;die 2&amp;3 &gt;&gt;normalen&lt;&lt; &lt;gähn&gt;\n",
      "„ \t „Rocketeer\" „Werk“ „Komödie\", „Good „Wallpictures\" „Song „Psycho\" „Ding\"\n",
      "î \t Benoît renaîtra îst Geschîchte îm în traîne dîner\n",
      "É \t OBÉLIX Éomer, DÉJÀ EEEDMÉ! CHIFFRÉ: \"AMÉLIE\") ANDRÉ Éinfluss\n",
      "= \t (=S.W.A.T?) (=Turner (=87/109 =TOP =0,Synchronisation kommt=) (=Terroristen) abgewinnen.=\n",
      "Ÿ \t modelmÃÃŸig ÃuÃŸerste grÃ¶ÃŸster FamilienspaÃŸ groÃŸem groÃŸe muÃŸ ReiÃŸbrettware\n",
      "Ê \t MESSÊJI Ês Êins\n",
      "ñ \t Señor: Muñez, Buñuel Mañana, acompañado compañero Buñuel, Kamiñski\n",
      "Œ \t Œuvre\n",
      "³ \t Century³-Edition Alien³). DVD-Century³ CENTURY³-Cinedition Stanis³aw Alien³ CENTURY³ Tucke³,\n",
      "— \t —\n",
      "| \t 2|5 Featurettes| Faultiere| Effekte|optische Nüsse,,|Die Sid|Kurzfilm |= 1|5\n",
      "` \t 60`er `94: Musik-DVD`s. `97 Gaspard`s `95 0`Connell) man`s\n",
      "ô \t Andô) Toshirô Hôtel \"Côte\" Tôkyô, fantômes Bushidô Côte\n",
      "­ \t Hand­lung an­schau­en. fu­tu­ris­ti­sche ein­zig ­ Über­wäl­ti­gung al­lein nieman­dem.\n",
      "ê \t Guêpes\", même, rêver \"Prêt-à-Porter\" suprême Yên d'êtat bête\n",
      "Ã \t Ã¼berzeugen SprÃnge nÃmlich nÃher. zÃhlt LÃ¤nder gefÃ¤llt stÃ¤ndig\n",
      "æ \t Dædalus Solskjær Æsahættr Cæsar\n",
      "À \t DÉJÀ \"À\n",
      "‚ \t ‚Enterprise' ‚schrägen' ‚Hingabe ‚verdunstetes ‚Ein ‚Details’ ‚seiner' ‚Bandhymne’\n",
      "½ \t 3½-stündige ½\n",
      "¶ \t schÃ¶n schÃ¶nen anhÃ¶ren aufstÃ¶ÃYt. VideoverÃ¶ffentlichungen vÃ¶llig grÃ¶ÃŸster KomÃ¶die,\n",
      "@ \t gizeh@gmx.de @;-) :-@ s@ndr@ Callb@y. H@@d Sonlet.lean@web.de @sisterDew\n",
      "¬ \t 65â,¬ Historienspek¬takeln Selbst¬behauptung. Exploita¬tionware Männer¬kino Wach¬koma.\n",
      "~ \t Films~ ^~^ ~Extras~ sagen~seine ~College ~Flug ihnen~ ~The\n",
      "è \t Saunière Lefèvre Farès \"Hélène-Zyklus\" Clicheè \"Frontièr(s)\" Resumèe: \"Mylène\n",
      " \t SpaÃ heiÃt\n",
      "ó \t Aragón. Corazón. Balagueró Villazón educación Netrebko-Villazón MacLiammóir Król.\n",
      "Í \t Índy Ídee Ích (Ítalien,\n",
      "« \t »Simone«, «Predator»-Streifen. Quote«, Bluff«. «White Ersatz« »rechts« Himmel«\n",
      "ž \t Šerbedžija,\n",
      "Æ \t Æon Æsahættr\n",
      "ø \t Jørgen, Mäzen(Jørgen) Jørgens (Søren København Løken. Jørgen Gråbøl)...und\n",
      "» \t »Simone«, »Heaven's » «Predator»-Streifen. »Unsere »rechts« Familienidylle» wertvoll»\n",
      "® \t ESTODA®-System EMMY®-Preisverleihung Oscar®-Gewinner Oscar®-Regisseur Oscar®-Nominierung.\n",
      "Ø \t Ø, Ørnen\n",
      "¡ \t werden!¡§. Manitu¡§\n",
      "Â \t dÂ'Orville SnicketÂss Makjng-OfÂss,\n",
      "â \t Ishâq),aber Mâ. â d'âme 65â,¬ théâtre Fadlân châtiment\n",
      "ì \t ìch Mìa Patillìere\n",
      "$ \t f*\"$ing $, Milliarde$,aber $80 12$ 500$ $. Mio$.\n",
      "§ \t werden!¡§. § (au§er §\"$\"&amp;$ (850.000,-§ Spa§ §131 \"§ie7en\".\n",
      "ã \t erhãltlich\n",
      "ù \t Ts'ùulo'ob, Déja-vù-Gefühl où Marilù\n",
      "´ \t Eddy´s jedermann´s ´n gut´erklärt. Goerge´s Queen´s \"n´Appel für´s\n",
      "á \t Irglová Hakvoort/Kamarás Zoltán Hutterová, táime: Mátch Sebastián Máté\n",
      "… \t soll… und… […]“ „…ihr grausig… ist… Angreifer… Menschenfresser…\n",
      "é \t Klischeé Markéta beauté Sébastien Clarén). méhr Café-/Barbesitzerin Prieuré\n",
      "Ó \t Óriginalfim\n",
      "‘ \t ‚Troja‘, ‘HMS ‘Acheron’ ‚Alexander‘ 20‘\n",
      "Á \t Áneinandereiung Ábstand (Átame!) Áuch EntrÁcte \"PHANTÁSiEN\". Áls Árpád,\n",
      "ç \t Iguaçu-Wasserfall. Françios Curaçao François, façades Yeilçay) Contrefaçon française\n",
      "£ \t £17. 25£\n",
      "å \t Lassgård Skarsgård Stargåte på Lassgård, Gråbøl)...und smörgås\n",
      "¤ \t LÃ¤nder gefÃ¤llt stÃ¤ndig MÃ¤rchen. BildqualitÃ¤t VorgÃ¤nger FlugzeugtÃ¤gers erzÃ¤hlt.\n",
      "² \t HD²-Verfahren Action²film 4cm²!), M² m² CO² Kult² ².\n",
      "€ \t 13,99€. 17€. 8,98€ 100€, 29,90€ 25€? 11€... 3€\n",
      "© \t (© © ©Desperado\n",
      "Ì \t dÌ Ìm\n",
      "” \t hinaustreten.” „Hauptspeisen” “Hirsch-Frau”. mitzuspielen?” Puppe” China” ist”. dead”\n",
      "+ \t Charakterstudie+innovativ (6+7j.) (+minimal 40+ Doku+Trailer) gespickt:clooney,keitel,lewis+tarantino 5DVD-Box+1 +Rasend\n",
      "à \t Cinecittà (à voilà, Déjà-Vu alà Déjà-vu-Erlebnissen (Dèjà nàchsten\n"
     ]
    }
   ],
   "source": [
    "temp=''.join([token for token,count in tokenset.items()])\n",
    "htmlcode=set(re.findall('&[^&;]+;',temp))\n",
    "print('htmlcode: ',htmlcode)\n",
    "\n",
    "temp=''.join(list(set(temp)))\n",
    "print('verschiedene Zeichen: ',len(temp))\n",
    "\n",
    "chars=re.sub('[A-Za-z0-9\\-\\\\\\/\\{\\[\\]}\\(\\)äöüßÄÖÜ.!?,;\\\"\\':]', '', temp)\n",
    "print('unbekannte Zeichen: ',len(chars))\n",
    "\n",
    "char_dict={}\n",
    "for token, count in tokenset.items():\n",
    "    for char in chars:\n",
    "        if char in token:\n",
    "            try:\n",
    "                char_dict[char]+=[token]\n",
    "            except:\n",
    "                char_dict[char]=[token]\n",
    "                \n",
    "for char, tokens in char_dict.items():\n",
    "    print(char,'\\t', ' '.join(tokens[:8]))"
   ]
  },
  {
   "cell_type": "markdown",
   "metadata": {},
   "source": [
    "# Handling unbekannter Zeichen & cleane Korpus"
   ]
  },
  {
   "cell_type": "code",
   "execution_count": 64,
   "metadata": {},
   "outputs": [],
   "source": [
    "def char_replace(String):\n",
    "    Sub=[('A','ÀÁÂÃÅ'),('Ae','Æ'),('E','ÈÉÊ'),('I','ÌÍÎÏ'),('O','ÓØÚ'),('U','ÚÛ'),\n",
    "             ('a','àáâãå'),('ae','æ'),('c','ç'),('e','èéêë'),('i','ìíîï'),('n','ñ'),\n",
    "             ('o','òóôø'),('o','òóôø'),('u','ùúû'),('u','ùúû'),('Oe','Œ'),('oe','œ'),\n",
    "             ('S','Š'),('s','š'),('Y','Ÿ'),('Z','Ž'),('z','ž'),('ß','β'),('...','…'),\n",
    "             (\"\"\"'\"\"\",'`'),(\"\"\"'\"\"\",'’'),(\"\"\"'\"\"\",'´')]\n",
    "    for new,old in Sub:\n",
    "        String=re.sub('['+old+']',new, String)\n",
    "\n",
    "    Replace=[('&amp;',' und '),('&lt;',''), ('&gt;',''),('&',' und '),\n",
    "             ('\\xad',''),('\\x84',''),('\\x9c','Ü'),('\\x9f','ß'),('\\xc3\\xb6','ö'),('\\xc3\\xbc','ü'),('\\xc3\\xa4','ä'),\n",
    "             ('A¤','ä'),('A¶','ö'),('A¼','ü'),('~',''),('=',' '),('_',' '),\n",
    "             ('|',' '),('*',' '),('+',' '),('¬',''),('²',''),('³',''),('au§er','außer'),('Spa§','Spaß')]\n",
    "\n",
    "    for old,new in Replace:\n",
    "        String=String.replace(old,new)\n",
    "        \n",
    "    String=re.sub('[#$%&@^_¡£§©«®°¶·»¼½–—‘‚“”„€]','', String)\n",
    "\n",
    "    #Standard\n",
    "    String=re.sub('[,;]', ' ', String)\n",
    "    String=re.sub('[.!?,;]', ' . ', String).replace('-',' ')\n",
    "    String=re.sub('[0-9\\\\\\/\\{\\[\\]}\\(\\)\\\"\\'\\:]', ' ', String)\n",
    "    String=re.sub('\\s+',' ', String).strip()\n",
    "    return String"
   ]
  },
  {
   "cell_type": "code",
   "execution_count": 100,
   "metadata": {},
   "outputs": [
    {
     "name": "stdout",
     "output_type": "stream",
     "text": [
      "Tokens:  306887\n",
      "Gelöschte Links:  175\n",
      "Gelöschter Code:  0\n",
      "Leere Reviews:  12\n",
      "htmlcode:  set()\n",
      "verschiedene Zeichen:  60\n",
      "unbekannte Zeichen:  0\n"
     ]
    }
   ],
   "source": [
    "#Cleaning\n",
    "conn = sqlite3.connect(text_processing_sql)\n",
    "cur = conn.cursor() \n",
    "\n",
    "cur.execute('SELECT ID, text FROM raw') \n",
    "tokenset={}\n",
    "origin={}\n",
    "links=[]\n",
    "code=[]\n",
    "empty=0\n",
    "data=[]\n",
    "\n",
    "for ID, text in cur:\n",
    "    if text is not None:\n",
    "        try:\n",
    "            code+=re.findall('<.*?>',text)\n",
    "        except:\n",
    "            pass\n",
    "        try:\n",
    "            links+=re.findall('http[\\s]{0}[^\\s]+|http:\\/\\/ [^\\s]+|www[.][^\\s]+',text)\n",
    "        except:\n",
    "            pass\n",
    "        \n",
    "        text=re.sub('<.*?>','',text)\n",
    "        text=re.sub('http[^\\s]+|http:\\/\\/ [^\\s]+|www[.][^\\s]+','',text)\n",
    "        text=char_replace(text)\n",
    "        text=re.sub('[.\\s]+[.][.\\s]+','.',text).replace('.',' . ')\n",
    "        tokens=[word.strip('-').strip() for word in re.findall(\"\"\"[^\\s]+\"\"\", text)]\n",
    "        \n",
    "        data.append((ID,' '.join(tokens)))\n",
    "        \n",
    "        if len(tokens)>0:       \n",
    "            for word in tokens:\n",
    "                try:\n",
    "                    tokenset[word]+=1\n",
    "                except:\n",
    "                    tokenset[word]=1 \n",
    "                    origin[word]=str(ID)\n",
    "        else:\n",
    "            empty+=1\n",
    "    else:\n",
    "        empty+=1\n",
    "                    \n",
    "conn.close()\n",
    "tokenset.pop('', None)\n",
    "origin.pop('', None)\n",
    "print('Tokens: ', len(tokenset))\n",
    "print('Gelöschte Links: ', len(links))\n",
    "print('Gelöschter Code: ', len(code))\n",
    "print('Leere Reviews: ', empty)\n",
    "\n",
    "temp=''.join([token for token,count in tokenset.items()])\n",
    "htmlcode=set(re.findall('&[^&;]+;',temp))\n",
    "print('htmlcode: ',htmlcode)\n",
    "\n",
    "temp=''.join(list(set(temp)))\n",
    "print('verschiedene Zeichen: ',len(temp))\n",
    "\n",
    "chars=re.sub('[A-Za-zäöüßÄÖÜ0-9.]', '', temp)\n",
    "print('unbekannte Zeichen: ',len(chars))"
   ]
  },
  {
   "cell_type": "code",
   "execution_count": 105,
   "metadata": {},
   "outputs": [],
   "source": [
    "# save clean\n",
    "dataframe=pd.DataFrame(data, columns=['ID','text'])\n",
    "db='clean' \n",
    "conn = sqlite3.connect(text_processing_sql)\n",
    "cur = conn.cursor()                                 \n",
    "\n",
    "wildcards = ','.join(['?'] * len(dataframe.columns))              \n",
    "\n",
    "cur.execute(\"drop table if exists %s\" % db)\n",
    "\n",
    "col_str = '\"' + '\",\"'.join(dataframe.columns) + '\"'\n",
    "cur.execute(\"create table %s (%s)\" % (db, col_str))\n",
    "\n",
    "cur.executemany(\"insert into %s values(%s)\" % (db, wildcards), [tuple(x) for x in dataframe.values])\n",
    "\n",
    "conn.commit()\n",
    "conn.close()"
   ]
  },
  {
   "cell_type": "markdown",
   "metadata": {},
   "source": [
    "# Cleaning Ende"
   ]
  },
  {
   "cell_type": "code",
   "execution_count": 6,
   "metadata": {},
   "outputs": [
    {
     "name": "stdout",
     "output_type": "stream",
     "text": [
      "0 Mischwörter:  ...\n"
     ]
    }
   ],
   "source": [
    "#Finde Wörter mit Buchstaben und Zahlen\n",
    "wortUzahl=[]\n",
    "for token,count in tokenset.items():\n",
    "    l0=len(token)\n",
    "    temp=re.sub('[A-Za-zäöüßÄÖÜ]', '', token)\n",
    "    l1=len(temp)\n",
    "    l2=len(re.sub('[0-9]', '', temp))\n",
    "    if l0>l1 and l1>l2:\n",
    "        wortUzahl.append(token)\n",
    "print(len(set(wortUzahl)),'Mischwörter:', ' '.join(wortUzahl[:20]), '...')"
   ]
  },
  {
   "cell_type": "code",
   "execution_count": 7,
   "metadata": {},
   "outputs": [
    {
     "data": {
      "text/plain": [
       "(306887,\n",
       " [(1676275, '.'),\n",
       "  (332182, 'und'),\n",
       "  (311909, 'die'),\n",
       "  (273924, 'der'),\n",
       "  (197524, 'ist'),\n",
       "  (141949, 'nicht'),\n",
       "  (140758, 'in'),\n",
       "  (133773, 'Film'),\n",
       "  (127979, 'zu'),\n",
       "  (125849, 'den'),\n",
       "  (118859, 'das'),\n",
       "  (107551, 'ich'),\n",
       "  (96049, 'mit'),\n",
       "  (94922, 'ein'),\n",
       "  (94156, 'von'),\n",
       "  (93269, 'sich'),\n",
       "  (92244, 'auch'),\n",
       "  (85963, 'es'),\n",
       "  (83960, 'auf'),\n",
       "  (82682, 'man'),\n",
       "  (71637, 'eine'),\n",
       "  (65013, 'Die'),\n",
       "  (64155, 'aber'),\n",
       "  (63085, 'als'),\n",
       "  (62585, 'für'),\n",
       "  (61661, 'nur'),\n",
       "  (59789, 'dem'),\n",
       "  (58537, 'so'),\n",
       "  (58348, 'hat'),\n",
       "  (57079, 'wie')])"
      ]
     },
     "execution_count": 7,
     "metadata": {},
     "output_type": "execute_result"
    }
   ],
   "source": [
    "#absolute Häufigkeit der Token\n",
    "absolutP=sorted([(v,k) for k,v in tokenset.items()], reverse=True)\n",
    "counter={k:v for v,k in absolutP}\n",
    "\n",
    "\n",
    "len(counter),absolutP[:30]"
   ]
  },
  {
   "cell_type": "code",
   "execution_count": 8,
   "metadata": {},
   "outputs": [
    {
     "data": {
      "text/plain": [
       "('laden', 'Verb')"
      ]
     },
     "execution_count": 8,
     "metadata": {},
     "output_type": "execute_result"
    }
   ],
   "source": [
    "# Lade Wiktionary\n",
    "wiktionary_sql = 'data/wiktionary/wiktionary.db'\n",
    "conn=sqlite3.connect(wiktionary_sql)\n",
    "cur = conn.cursor()\n",
    "cur.execute('SELECT token, quick_stemm, quick_pos FROM lexikon')\n",
    "stemm_pos={token:(quick_stemm, quick_pos) for token, quick_stemm, quick_pos in cur}\n",
    "stemm_pos_low={token.lower():value for token, value in stemm_pos.items()}\n",
    "conn.close() \n",
    "\n",
    "#test\n",
    "stemm_pos['geladen']"
   ]
  },
  {
   "cell_type": "code",
   "execution_count": 10,
   "metadata": {},
   "outputs": [
    {
     "data": {
      "text/plain": [
       "(120303, 186584)"
      ]
     },
     "execution_count": 10,
     "metadata": {},
     "output_type": "execute_result"
    }
   ],
   "source": [
    "tagged={}\n",
    "untagged=[]\n",
    "counter_stemm={}\n",
    "#form={}\n",
    "for tok in counter.keys():\n",
    "    tok1=tok.lower()\n",
    "    tok2=tok1.title()\n",
    "    \n",
    "    try:   \n",
    "        stemm=stemm_pos_low[tok1]\n",
    "        tagged[tok]='None'\n",
    "    except:\n",
    "        untagged.append(tok)\n",
    "\"\"\"\n",
    "    pos=False    \n",
    "    if tok1 in stemm_pos.keys():     \n",
    "        stemm=stemm_pos[tok1]\n",
    "        pos=True\n",
    "    elif tok2 in stemm_pos.keys():\n",
    "        stemm=stemm_pos[tok2]\n",
    "        pos=True\n",
    "    else:\n",
    "        untagged.append(tok)\n",
    "   \n",
    "    if pos==True:\n",
    "        if stemm in tagged:\n",
    "            tagged[stemm]+=int(counter[tok])\n",
    "        else:\n",
    "            tagged[stemm]=int(counter[tok])\n",
    "            \n",
    "        if stemm in form and tok not in form[stemm].split('|'):\n",
    "            form[stemm]+='|'+tok\n",
    "        else:\n",
    "            form[stemm]=tok\n",
    "\"\"\"    \n",
    "len(tagged), len(untagged)"
   ]
  },
  {
   "cell_type": "code",
   "execution_count": 13,
   "metadata": {},
   "outputs": [
    {
     "data": {
      "text/plain": [
       "'figur'"
      ]
     },
     "execution_count": 13,
     "metadata": {},
     "output_type": "execute_result"
    }
   ],
   "source": [
    "# Lade NER\n",
    "wiktionary_sql = 'data/data.db'\n",
    "conn=sqlite3.connect(wiktionary_sql)\n",
    "cur = conn.cursor()\n",
    "cur.execute('SELECT token, pos FROM ner2')\n",
    "stemm_pos2={token:pos for token, pos in cur}\n",
    "stemm_pos_low2={token.lower():pos for token, pos in stemm_pos2.items()}\n",
    "conn.close() \n",
    "\n",
    "#test\n",
    "stemm_pos2['Hephaistos']"
   ]
  },
  {
   "cell_type": "markdown",
   "metadata": {},
   "source": [
    "# Spellcheck Start"
   ]
  },
  {
   "cell_type": "code",
   "execution_count": 106,
   "metadata": {},
   "outputs": [
    {
     "name": "stdout",
     "output_type": "stream",
     "text": [
      "560083\n",
      "695104\n"
     ]
    }
   ],
   "source": [
    "templ1={k:k for k,v in stemm_pos_low.items() if len(k)>3}\n",
    "templ2={k:k for k,v in stemm_pos_low2.items() if len(k)>3}\n",
    "print(len(templ1))\n",
    "templ1.update(templ2)\n",
    "print(len(templ1))"
   ]
  },
  {
   "cell_type": "code",
   "execution_count": 150,
   "metadata": {},
   "outputs": [
    {
     "name": "stdout",
     "output_type": "stream",
     "text": [
      "186584\n"
     ]
    },
    {
     "data": {
      "text/plain": [
       "(122719, 63865)"
      ]
     },
     "execution_count": 150,
     "metadata": {},
     "output_type": "execute_result"
    }
   ],
   "source": [
    "untagged3=[]\n",
    "match={}\n",
    "\n",
    "#lexik={k:k for k,v in stemm_pos_low.items() if len(k)>3}\n",
    "lexik={k:k for k,v in templ1.items() if len(k)>3}\n",
    "#lexik.update(stemm_pos_low)\n",
    "lexik_lw=sorted([(len(w),w) for w in lexik if len(w)>2 and ' ' not in w], reverse=True)\n",
    "\n",
    "c=0\n",
    "\n",
    "count=len(untagged)\n",
    "print(count)\n",
    "for bad_word in untagged:\n",
    "    count=count-1\n",
    "    save_word=bad_word\n",
    "    bad_word=bad_word.lower()\n",
    "    temp1=bad_word.replace('ae','ä').replace('oe','ö').replace('ue','ü')\n",
    "    temp2=temp1.replace('ss','ß')\n",
    "    temp3=bad_word.replace('rumzu','')\n",
    "    if bad_word[-3:]=='dem' or bad_word[-3:]=='der' or bad_word[-3:]=='den':\n",
    "        temp4=bad_word[:-3]\n",
    "    else:\n",
    "        temp4=bad_word\n",
    "    temp5=bad_word.replace('f','v')\n",
    "    if bad_word[-2:]=='er':\n",
    "        temp6=bad_word[:-2]\n",
    "    else:\n",
    "        temp6=bad_word\n",
    "    temp7=bad_word.replace('c','k')\n",
    "    if bad_word[:2]=='ab' or bad_word[:2]=='ge' or bad_word[:2]=='zu':\n",
    "        temp8=bad_word[2:]\n",
    "    elif bad_word[:3]=='aus' or bad_word[:3]=='auf' or bad_word[:3]=='mit':\n",
    "        temp8=bad_word[3:]\n",
    "    else:\n",
    "        temp8=bad_word\n",
    "\n",
    "    \n",
    "    if bad_word in lexik:\n",
    "        match[save_word]=lexik[bad_word]\n",
    "        continue\n",
    "        \n",
    "    if temp1 in lexik:\n",
    "        match[save_word]=lexik[temp1]\n",
    "        continue\n",
    "        \n",
    "    if temp2 in lexik:\n",
    "        match[save_word]=lexik[temp2]\n",
    "        continue\n",
    "        \n",
    "    if temp3 in lexik:\n",
    "        match[save_word]=lexik[temp3]\n",
    "        continue\n",
    "    \n",
    "    if temp5 in lexik:\n",
    "        match[save_word]=lexik[temp5]\n",
    "        continue\n",
    "    \n",
    "    if len(temp)>5 and temp4 in lexik:\n",
    "        match[save_word]=lexik[temp4]\n",
    "        continue\n",
    "        \n",
    "    if len(temp)>5 and temp6 in lexik:\n",
    "        match[save_word]=lexik[temp6]\n",
    "        continue\n",
    "    \n",
    "    if temp7 in lexik:\n",
    "        match[save_word]=lexik[temp7]\n",
    "        continue\n",
    "        \n",
    "    if len(bad_word)>8 and bad_word[:-2] in lexik:\n",
    "        match[save_word]=lexik[bad_word[:-2]]\n",
    "        continue\n",
    "        \n",
    "    if len(bad_word)>6 and bad_word[:-1] in lexik:\n",
    "        match[save_word]=lexik[bad_word[:-1]]\n",
    "        continue\n",
    "        \n",
    "    if bad_word[:2]=='un' and bad_word[2:] in lexik:\n",
    "        match[save_word]='nicht'+' '+lexik[bad_word[2:]]\n",
    "        continue\n",
    "        \n",
    "    if len(bad_word)>6 and bad_word[-4:]=='chen' and not 'schen' in bad_word and bad_word.replace('chen','') in lexik:\n",
    "        match[save_word]=lexik[bad_word.replace('chen','')]\n",
    "        if temp in lexik:\n",
    "            match[save_word]=lexik[temp]\n",
    "            continue\n",
    "        elif temp.replace('ä','a').replace('ö','o').replace('ü','u') in lexik:\n",
    "            match[save_word]=lexik[temp.replace('ä','a').replace('ö','o').replace('ü','u')]\n",
    "            continue\n",
    "    \n",
    "    \n",
    "    if len(bad_word)>8:\n",
    "        for i in range(4,len(bad_word)):\n",
    "            head=bad_word[:i]\n",
    "            tail=bad_word[i:]\n",
    "            if head in lexik and tail in lexik:\n",
    "                match[save_word]=(head+' '+tail)\n",
    "                #print(bad_word,head,tail)\n",
    "                continue\n",
    "    \n",
    "    if len(bad_word)>8:\n",
    "        for i in range(3,len(bad_word)):\n",
    "            head=bad_word[:i]\n",
    "            tail=bad_word[i:]\n",
    "            if head in lexik and tail in lexik:\n",
    "                match[save_word]=(head+' '+tail)\n",
    "                break;\n",
    "        try:\n",
    "            match[save_word]\n",
    "            continue\n",
    "        except:\n",
    "            pass\n",
    "\n",
    "    if len(bad_word)>7:\n",
    "        for i in range(3,len(bad_word)):\n",
    "            head=bad_word[:i]\n",
    "            tail=bad_word[i:]\n",
    "            if head in lexik and tail in lexik:\n",
    "                match[save_word]=(head+' '+tail)\n",
    "                #print(bad_word,head,tail)\n",
    "                break;\n",
    "        try:\n",
    "            match[save_word]\n",
    "            continue\n",
    "        except:\n",
    "            pass\n",
    "        \n",
    "    if len(bad_word)>7:\n",
    "        for i in range(3,len(temp4)):\n",
    "            head=temp4[:i]\n",
    "            tail=temp4[i:]\n",
    "            if head in lexik and tail in lexik:\n",
    "                match[save_word]=(head+' '+tail)\n",
    "                #print(bad_word,head,tail)\n",
    "                break;\n",
    "        try:\n",
    "            match[save_word]\n",
    "            continue\n",
    "        except:\n",
    "            pass\n",
    "                \n",
    "    if len(bad_word)>10:\n",
    "        for i in range(3,len(bad_word)-3):\n",
    "            head=bad_word[:i]\n",
    "            for j in range(i+3,len(bad_word)-3):\n",
    "                middle=bad_word[i:j]\n",
    "                tail=bad_word[j:]\n",
    "                if head in lexik and middle in lexik and tail in lexik:\n",
    "                    match[save_word]=(head+' '+middle+' '+tail)\n",
    "                    #print(bad_word,head,middle,tail)    \n",
    "        try:\n",
    "            match[save_word]\n",
    "            continue\n",
    "        except:\n",
    "            pass\n",
    "        \n",
    "        \n",
    "    if len(temp2)>8:\n",
    "        for i in range(4,len(temp2)):\n",
    "            head=temp2[:i]\n",
    "            tail=temp2[i:]\n",
    "            if head in lexik and tail in lexik:\n",
    "                match[save_word]=(head+' '+tail)\n",
    "                #print(bad_word,head,tail)\n",
    "        try:\n",
    "            match[save_word]\n",
    "            continue\n",
    "        except:\n",
    "            pass\n",
    "                \n",
    "                \n",
    "    if len(temp8)>4 and temp8 in lexik:\n",
    "        match[save_word]=lexik[temp8]\n",
    "        continue\n",
    "    \n",
    "   # loop=[w for l,w in lexik_lw if w[0]==bad_word[0]]\n",
    "   # for temp in loop:\n",
    "   #     if Levenshtein.ratio(temp,bad_word)>0.95:\n",
    "   #             match[save_word]=temp\n",
    "   #             print(save_word,temp)\n",
    "    try:\n",
    "        match[save_word]\n",
    "        continue\n",
    "    except:\n",
    "        pass\n",
    "   #if bad_word=='urlaubsort':\n",
    "   #     break;\n",
    "            \n",
    "            \n",
    "     \n",
    "   \n",
    "    try:\n",
    "        match[save_word]\n",
    "    except:\n",
    "        untagged3.append(save_word)\n",
    "                    \n",
    "    #if count%1000==0:\n",
    "    #    print(count)\n",
    "len(match), len(untagged3)"
   ]
  },
  {
   "cell_type": "code",
   "execution_count": 151,
   "metadata": {},
   "outputs": [
    {
     "data": {
      "text/plain": [
       "'nicht vermeintlichen'"
      ]
     },
     "execution_count": 151,
     "metadata": {},
     "output_type": "execute_result"
    }
   ],
   "source": [
    "match['unvermeintlichen']"
   ]
  },
  {
   "cell_type": "code",
   "execution_count": 152,
   "metadata": {},
   "outputs": [],
   "source": [
    "data=[]\n",
    "#load clean\n",
    "conn = sqlite3.connect(text_processing_sql)\n",
    "cur = conn.cursor() \n",
    "\n",
    "cur.execute('SELECT ID, text FROM clean') \n",
    "\n",
    "def spell(String, dic):\n",
    "    try:\n",
    "        return dic[String]\n",
    "    except:\n",
    "        return String\n",
    "    \n",
    "for ID, text in cur:\n",
    "    tokens=text.split(' ')\n",
    "    tokens=[spell(tok, match) for tok in tokens]\n",
    "    data.append((ID,' '.join(tokens)))\n",
    "\n",
    "conn.close()\n",
    "\n",
    "# save clean\n",
    "dataframe=pd.DataFrame(data, columns=['ID','text'])\n",
    "db='spellcheck' \n",
    "conn = sqlite3.connect(text_processing_sql)\n",
    "cur = conn.cursor()                                 \n",
    "\n",
    "wildcards = ','.join(['?'] * len(dataframe.columns))              \n",
    "\n",
    "cur.execute(\"drop table if exists %s\" % db)\n",
    "\n",
    "col_str = '\"' + '\",\"'.join(dataframe.columns) + '\"'\n",
    "cur.execute(\"create table %s (%s)\" % (db, col_str))\n",
    "\n",
    "cur.executemany(\"insert into %s values(%s)\" % (db, wildcards), [tuple(x) for x in dataframe.values])\n",
    "\n",
    "conn.commit()\n",
    "conn.close()"
   ]
  },
  {
   "cell_type": "markdown",
   "metadata": {},
   "source": [
    "# Spellcheck Ende"
   ]
  },
  {
   "cell_type": "markdown",
   "metadata": {},
   "source": [
    "# #################\n",
    "# Diverse Tests (unvollständiger Code)"
   ]
  },
  {
   "cell_type": "code",
   "execution_count": 1,
   "metadata": {},
   "outputs": [],
   "source": [
    "#elektische elenktische\n",
    "#elektische elektrische\n",
    "#elektische eklektische\n",
    "#liderliche liederliche"
   ]
  },
  {
   "cell_type": "code",
   "execution_count": 376,
   "metadata": {},
   "outputs": [
    {
     "data": {
      "text/html": [
       "<div>\n",
       "<style scoped>\n",
       "    .dataframe tbody tr th:only-of-type {\n",
       "        vertical-align: middle;\n",
       "    }\n",
       "\n",
       "    .dataframe tbody tr th {\n",
       "        vertical-align: top;\n",
       "    }\n",
       "\n",
       "    .dataframe thead th {\n",
       "        text-align: right;\n",
       "    }\n",
       "</style>\n",
       "<table border=\"1\" class=\"dataframe\">\n",
       "  <thead>\n",
       "    <tr style=\"text-align: right;\">\n",
       "      <th></th>\n",
       "      <th>token</th>\n",
       "      <th>pos</th>\n",
       "      <th>n</th>\n",
       "      <th>form</th>\n",
       "    </tr>\n",
       "  </thead>\n",
       "  <tbody>\n",
       "    <tr>\n",
       "      <th>42698</th>\n",
       "      <td>Serie</td>\n",
       "      <td>Substantiv</td>\n",
       "      <td>17105</td>\n",
       "      <td>Serie|serien|SERIE|serie|Serien|SErie</td>\n",
       "    </tr>\n",
       "    <tr>\n",
       "      <th>1644</th>\n",
       "      <td>Jahr</td>\n",
       "      <td>Substantiv</td>\n",
       "      <td>16389</td>\n",
       "      <td>Jahr|JAHRES|jahren|Jahrs|jahre|JAhr|JAHR|JAHRE...</td>\n",
       "    </tr>\n",
       "    <tr>\n",
       "      <th>40062</th>\n",
       "      <td>Story</td>\n",
       "      <td>Substantiv</td>\n",
       "      <td>16248</td>\n",
       "      <td>STORYS|Story|story|storys|Storys|STORY|STory</td>\n",
       "    </tr>\n",
       "    <tr>\n",
       "      <th>5106</th>\n",
       "      <td>Szene</td>\n",
       "      <td>Substantiv</td>\n",
       "      <td>15668</td>\n",
       "      <td>szene|SZENEN|Szenen|SZENE|szenen|Szene</td>\n",
       "    </tr>\n",
       "    <tr>\n",
       "      <th>44701</th>\n",
       "      <td>Fan</td>\n",
       "      <td>Substantiv</td>\n",
       "      <td>15250</td>\n",
       "      <td>fAn|FAN|FAns|FANS|fAns|fans|Fans|Fan|fan|FANs|FAn</td>\n",
       "    </tr>\n",
       "    <tr>\n",
       "      <th>7093</th>\n",
       "      <td>Geschichte</td>\n",
       "      <td>Substantiv</td>\n",
       "      <td>14705</td>\n",
       "      <td>GEschichten|Geschichten|GESCHiCHTE|GESCHICHTEN...</td>\n",
       "    </tr>\n",
       "    <tr>\n",
       "      <th>7095</th>\n",
       "      <td>Stern</td>\n",
       "      <td>Substantiv</td>\n",
       "      <td>14313</td>\n",
       "      <td>Sterne|STern|STerne|Sternen|sterne|STERN|Stern...</td>\n",
       "    </tr>\n",
       "    <tr>\n",
       "      <th>20725</th>\n",
       "      <td>Film</td>\n",
       "      <td>Substantiv</td>\n",
       "      <td>13914</td>\n",
       "      <td>films|Films|filmes|fiLms|FIlmes|FIlms|Filmes|F...</td>\n",
       "    </tr>\n",
       "    <tr>\n",
       "      <th>17773</th>\n",
       "      <td>Handlung</td>\n",
       "      <td>Substantiv</td>\n",
       "      <td>11328</td>\n",
       "      <td>Handlungen|handlungen|HANDLUNG|HAndlung|Handlu...</td>\n",
       "    </tr>\n",
       "    <tr>\n",
       "      <th>29190</th>\n",
       "      <td>Minute</td>\n",
       "      <td>Substantiv</td>\n",
       "      <td>10088</td>\n",
       "      <td>minuten|MINUTE|minute|Minuten|Minute|MINUTEN|M...</td>\n",
       "    </tr>\n",
       "  </tbody>\n",
       "</table>\n",
       "</div>"
      ],
      "text/plain": [
       "            token         pos      n  \\\n",
       "42698       Serie  Substantiv  17105   \n",
       "1644         Jahr  Substantiv  16389   \n",
       "40062       Story  Substantiv  16248   \n",
       "5106        Szene  Substantiv  15668   \n",
       "44701         Fan  Substantiv  15250   \n",
       "7093   Geschichte  Substantiv  14705   \n",
       "7095        Stern  Substantiv  14313   \n",
       "20725        Film  Substantiv  13914   \n",
       "17773    Handlung  Substantiv  11328   \n",
       "29190      Minute  Substantiv  10088   \n",
       "\n",
       "                                                    form  \n",
       "42698              Serie|serien|SERIE|serie|Serien|SErie  \n",
       "1644   Jahr|JAHRES|jahren|Jahrs|jahre|JAhr|JAHR|JAHRE...  \n",
       "40062       STORYS|Story|story|storys|Storys|STORY|STory  \n",
       "5106              szene|SZENEN|Szenen|SZENE|szenen|Szene  \n",
       "44701  fAn|FAN|FAns|FANS|fAns|fans|Fans|Fan|fan|FANs|FAn  \n",
       "7093   GEschichten|Geschichten|GESCHiCHTE|GESCHICHTEN...  \n",
       "7095   Sterne|STern|STerne|Sternen|sterne|STERN|Stern...  \n",
       "20725  films|Films|filmes|fiLms|FIlmes|FIlms|Filmes|F...  \n",
       "17773  Handlungen|handlungen|HANDLUNG|HAndlung|Handlu...  \n",
       "29190  minuten|MINUTE|minute|Minuten|Minute|MINUTEN|M...  "
      ]
     },
     "execution_count": 376,
     "metadata": {},
     "output_type": "execute_result"
    }
   ],
   "source": [
    "#df[(df['pos']=='Substantiv')][:10]"
   ]
  },
  {
   "cell_type": "code",
   "execution_count": 427,
   "metadata": {},
   "outputs": [
    {
     "data": {
      "text/plain": [
       "<matplotlib.figure.Figure at 0x7f03fe4c4a90>"
      ]
     },
     "execution_count": 427,
     "metadata": {},
     "output_type": "execute_result"
    }
   ],
   "source": [
    "#import nltk\n",
    "#import matplotlib.pyplot as plt\n",
    "#plt.figure(figsize=(30, 20))"
   ]
  },
  {
   "cell_type": "code",
   "execution_count": 428,
   "metadata": {
    "scrolled": true
   },
   "outputs": [
    {
     "data": {
      "image/png": "[encoded data removed]",
      "text/plain": [
       "<matplotlib.figure.Figure at 0x7f03e0389978>"
      ]
     },
     "metadata": {},
     "output_type": "display_data"
    }
   ],
   "source": [
    "#freqdist = nltk.FreqDist([v for k,v in tokenset.items()])\n",
    "#plt.figure(figsize=(16,5))\n",
    "#freqdist.plot(50)"
   ]
  },
  {
   "cell_type": "code",
   "execution_count": 430,
   "metadata": {},
   "outputs": [
    {
     "name": "stdout",
     "output_type": "stream",
     "text": [
      "[(1676275, '.'), (332182, 'und'), (311909, 'die'), (273924, 'der'), (197524, 'ist'), (141949, 'nicht'), (140758, 'in'), (133773, 'Film'), (127979, 'zu'), (125849, 'den'), (118859, 'das'), (107551, 'ich'), (96049, 'mit'), (94922, 'ein'), (94156, 'von'), (93269, 'sich'), (92244, 'auch'), (85963, 'es'), (83960, 'auf'), (82682, 'man'), (71637, 'eine'), (65013, 'Die'), (64155, 'aber'), (63085, 'als'), (62585, 'für'), (61661, 'nur'), (59789, 'dem'), (58537, 'so'), (58348, 'hat'), (57079, 'wie'), (52200, 'im'), (51952, 'noch'), (50586, 'sind'), (48358, 'an'), (48076, 'wird'), (47696, 'DVD'), (47354, 'er'), (47307, 'dass'), (46712, 'des'), (45841, 'kann'), (41808, 'einen'), (41133, 'sehr'), (40283, 'Ich'), (39572, 'sie'), (37250, 'aus'), (36356, 'Der'), (35293, 'was'), (34892, 'war'), (34190, 'bei'), (33863, 'schon')]\n"
     ]
    }
   ],
   "source": [
    "#print(sorted([(v,k) for k,v in tokenset.items()], reverse=True)[:50])"
   ]
  },
  {
   "cell_type": "code",
   "execution_count": null,
   "metadata": {},
   "outputs": [],
   "source": []
  }
 ],
 "metadata": {
  "kernelspec": {
   "display_name": "Python 3",
   "language": "python",
   "name": "python3"
  },
  "language_info": {
   "codemirror_mode": {
    "name": "ipython",
    "version": 3
   },
   "file_extension": ".py",
   "mimetype": "text/x-python",
   "name": "python",
   "nbconvert_exporter": "python",
   "pygments_lexer": "ipython3",
   "version": "3.5.2"
  }
 },
 "nbformat": 4,
 "nbformat_minor": 2
}
